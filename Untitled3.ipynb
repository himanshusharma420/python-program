{
  "nbformat": 4,
  "nbformat_minor": 0,
  "metadata": {
    "colab": {
      "provenance": []
    },
    "kernelspec": {
      "name": "python3",
      "display_name": "Python 3"
    },
    "language_info": {
      "name": "python"
    }
  },
  "cells": [
    {
      "cell_type": "code",
      "execution_count": 1,
      "metadata": {
        "colab": {
          "base_uri": "https://localhost:8080/"
        },
        "id": "w928lQ1JHJda",
        "outputId": "237a8282-c18d-4f66-e1ae-ea9d9c5bd3a0"
      },
      "outputs": [
        {
          "output_type": "stream",
          "name": "stdout",
          "text": [
            "hello i am himanshu how can i help you\n"
          ]
        },
        {
          "output_type": "execute_result",
          "data": {
            "text/plain": [
              "str"
            ]
          },
          "metadata": {},
          "execution_count": 1
        }
      ],
      "source": [
        "var=\"hello i am himanshu how can i help you\"       # string\n",
        "print(var)\n",
        "type(var)"
      ]
    },
    {
      "cell_type": "code",
      "source": [
        "var1=10                                            #integer\n",
        "print(var1)\n",
        "type(var1)"
      ],
      "metadata": {
        "colab": {
          "base_uri": "https://localhost:8080/"
        },
        "id": "Mv6vYCtfHsFk",
        "outputId": "54373dea-d3a2-4164-e14f-8ccb3877941d"
      },
      "execution_count": 3,
      "outputs": [
        {
          "output_type": "stream",
          "name": "stdout",
          "text": [
            "10\n"
          ]
        },
        {
          "output_type": "execute_result",
          "data": {
            "text/plain": [
              "int"
            ]
          },
          "metadata": {},
          "execution_count": 3
        }
      ]
    },
    {
      "cell_type": "code",
      "source": [
        "var2=2.0                                          #float\n",
        "print(var2)\n",
        "type(var2)"
      ],
      "metadata": {
        "colab": {
          "base_uri": "https://localhost:8080/"
        },
        "id": "k6ltfkERH5yg",
        "outputId": "557ed052-a086-4500-dbfd-b44ea32e2987"
      },
      "execution_count": 5,
      "outputs": [
        {
          "output_type": "stream",
          "name": "stdout",
          "text": [
            "2.0\n"
          ]
        },
        {
          "output_type": "execute_result",
          "data": {
            "text/plain": [
              "float"
            ]
          },
          "metadata": {},
          "execution_count": 5
        }
      ]
    },
    {
      "cell_type": "code",
      "source": [
        "var3=True                                         #boolean\n",
        "print(var3)\n",
        "type(var3)\n"
      ],
      "metadata": {
        "colab": {
          "base_uri": "https://localhost:8080/"
        },
        "id": "lX3-hO2LI4BL",
        "outputId": "7360b1f2-fcf6-4061-953a-9d2782581f06"
      },
      "execution_count": 9,
      "outputs": [
        {
          "output_type": "stream",
          "name": "stdout",
          "text": [
            "True\n"
          ]
        },
        {
          "output_type": "execute_result",
          "data": {
            "text/plain": [
              "bool"
            ]
          },
          "metadata": {},
          "execution_count": 9
        }
      ]
    },
    {
      "cell_type": "code",
      "source": [
        "print(var3)\n",
        "var3=False\n",
        "print(var3)"
      ],
      "metadata": {
        "colab": {
          "base_uri": "https://localhost:8080/"
        },
        "id": "IqTB-CXXJsc6",
        "outputId": "d1d13520-67cc-4b13-a6a8-e282409bdb79"
      },
      "execution_count": 10,
      "outputs": [
        {
          "output_type": "stream",
          "name": "stdout",
          "text": [
            "True\n",
            "False\n"
          ]
        }
      ]
    },
    {
      "cell_type": "code",
      "source": [
        "name=\"himanshu1\"\n",
        "print(name)\n",
        "type(name)"
      ],
      "metadata": {
        "colab": {
          "base_uri": "https://localhost:8080/"
        },
        "id": "YL8mAQrtLHXw",
        "outputId": "4e839b7c-b31c-4618-f99c-16bba954f365"
      },
      "execution_count": 11,
      "outputs": [
        {
          "output_type": "stream",
          "name": "stdout",
          "text": [
            "himanshu1\n"
          ]
        },
        {
          "output_type": "execute_result",
          "data": {
            "text/plain": [
              "str"
            ]
          },
          "metadata": {},
          "execution_count": 11
        }
      ]
    },
    {
      "cell_type": "code",
      "source": [
        "name=\"himanshu\"\n",
        "name1=\"deepanshu\"\n",
        "\n",
        "print(name)\n",
        ""
      ],
      "metadata": {
        "colab": {
          "base_uri": "https://localhost:8080/"
        },
        "id": "4pXlLRk4LcKo",
        "outputId": "1f84cfe0-206f-4895-952b-cd4364407d80"
      },
      "execution_count": 20,
      "outputs": [
        {
          "output_type": "stream",
          "name": "stdout",
          "text": [
            "himanshu\n"
          ]
        }
      ]
    },
    {
      "cell_type": "code",
      "source": [
        "inp_str=input(\"enter the string\")     #to display string 1to7\n",
        "print(inp_str[1:7])"
      ],
      "metadata": {
        "colab": {
          "base_uri": "https://localhost:8080/"
        },
        "id": "3a2bTvvjUdmE",
        "outputId": "01b6c53c-da91-4bad-b9cf-06582e391edf"
      },
      "execution_count": 36,
      "outputs": [
        {
          "output_type": "stream",
          "name": "stdout",
          "text": [
            "enter the stringhimanshusharma\n",
            "imansh\n"
          ]
        }
      ]
    },
    {
      "cell_type": "code",
      "source": [
        "inp_str2=input(\"enter the string\")        #to start string from right to left side\n",
        "print(inp_str2[-1 :-4:-1])"
      ],
      "metadata": {
        "colab": {
          "base_uri": "https://localhost:8080/"
        },
        "id": "XinoG4a3YN9B",
        "outputId": "af00a4f8-28af-4740-e007-838a4ebeab5d"
      },
      "execution_count": 54,
      "outputs": [
        {
          "output_type": "stream",
          "name": "stdout",
          "text": [
            "enter the stringhimanshu sharma\n",
            "amr\n"
          ]
        }
      ]
    },
    {
      "cell_type": "code",
      "source": [
        "inp_value1=input(\"enter the length\")\n",
        "inp_value2=input(\"enter the width\")\n",
        "print(inp_value1+inp_value2)"
      ],
      "metadata": {
        "colab": {
          "base_uri": "https://localhost:8080/"
        },
        "id": "hBeCCuOdVplq",
        "outputId": "09f5b52f-6300-49a6-cda5-611b7c890b8c"
      },
      "execution_count": 40,
      "outputs": [
        {
          "output_type": "stream",
          "name": "stdout",
          "text": [
            "enter the length4\n",
            "enter the width2\n",
            "42\n"
          ]
        }
      ]
    },
    {
      "cell_type": "code",
      "source": [
        "#diclare two variablx x and y and assign them integer values.swap the values of these variable without using any temporary variable\n"
      ],
      "metadata": {
        "id": "Z9S8WImfcbg4"
      },
      "execution_count": null,
      "outputs": []
    },
    {
      "cell_type": "code",
      "source": [
        "x=10\n",
        "y=5\n",
        "x=x+y\n",
        "y=x-y\n",
        "x=x-y\n",
        "print(\"x\",x)\n",
        "print(\"y\",y)\n"
      ],
      "metadata": {
        "colab": {
          "base_uri": "https://localhost:8080/"
        },
        "id": "g6sna9fldQAZ",
        "outputId": "45c6577d-aa10-4dcf-d465-b31fbb845903"
      },
      "execution_count": 58,
      "outputs": [
        {
          "output_type": "stream",
          "name": "stdout",
          "text": [
            "x 5\n",
            "y 10\n"
          ]
        }
      ]
    },
    {
      "cell_type": "code",
      "source": [],
      "metadata": {
        "id": "DreF3BWxeNUC"
      },
      "execution_count": null,
      "outputs": []
    }
  ]
}